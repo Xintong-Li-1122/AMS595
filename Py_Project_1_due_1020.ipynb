{
  "cells": [
    {
      "cell_type": "markdown",
      "metadata": {
        "id": "xq__bChjD04e"
      },
      "source": [
        "# Python Assignment 1"
      ]
    },
    {
      "cell_type": "markdown",
      "metadata": {
        "id": "y7j2V0UDMYLG"
      },
      "source": [
        "⏱⏱⏱**Due: 10/20/2024 11:59:59 PM** ⏱⏱⏱\n",
        "\n",
        "Submit this notebook file and upload it to your git repo. Include a link to your git repo while submitting this file to Brightspace.\n",
        "\n",
        "You are not allowed to use chatgpt or any LLM in this assignment.\n",
        "Cooperation is allowed and encouraged; however, you must write up and submit your own work. If you cooperate with others, you must list their names here."
      ]
    },
    {
      "cell_type": "markdown",
      "metadata": {
        "id": "SUS30Ew9D04n"
      },
      "source": [
        "Total points: 100 (equivalent to 20 points after conversion)"
      ]
    },
    {
      "cell_type": "markdown",
      "metadata": {
        "id": "b_bgT3b2GYTB"
      },
      "source": [
        "## 0. Data Types, Structures, Indexing, and Slicing"
      ]
    },
    {
      "cell_type": "markdown",
      "metadata": {
        "id": "6yI1Jt57IwV2"
      },
      "source": [
        "Read the lecutre note as well as [this page](https://www.geeksforgeeks.org/mutable-vs-immutable-objects-in-python/) and [this page](https://www.geeksforgeeks.org/difference-between-shallow-and-deep-copy-of-a-class/). Complete the following questions.\n",
        "\n",
        "(5 points) Give some examples (at least 2) of mutable objects in Python.\n",
        "\n",
        "***Answer:*** Lists, Sets\n",
        "\n",
        "\n",
        "---\n",
        "\n",
        "\n",
        "\n",
        "(5 points) Give some examples (at least 2) of immutable objects in Python.\n",
        "\n",
        "***Answer:*** Tuples, Basic data types\n",
        "\n",
        "\n",
        "---\n",
        "\n",
        "\n",
        "\n",
        "(10 points) State the differences between assignment, shallow copy, and deep copy. Any reasonable answer will get full credit.\n",
        "\n",
        "***Answer:*** \n",
        "              \n",
        "- For mutable objects,  assignment creates an \"alias\" for the object in memory, and changes to the alias will change the original object, while copy and deep copy both create new object. For immutable basic types, assignment copies the value.\n",
        "\n",
        "- Shallow copy constructs a new compound object and then (to the extent possible) inserts references into it to the objects found in the original, and it reflects changes made to the new/copied object in the original object.\n",
        "  \n",
        "- deep copy constructs a new compound object and then, recursively, inserts copies into it of the objects found in the original, and doesn’t reflect changes made to the new/copied object in the original object.\n",
        "\n",
        "\n",
        "\n",
        "---\n",
        "\n",
        "\n",
        "\n"
      ]
    },
    {
      "cell_type": "markdown",
      "metadata": {
        "id": "OA8DxcrrGqZD"
      },
      "source": [
        "(10 points) Using string methods find() and rfind(), find the index of the first digit (i.e. 0) and the index of the last digit (5) in the string below. Then, using string slicing, extract the number (i.e. 0.595595) from this string and convert the extracted value to a floating point number. Print out this float to the console."
      ]
    },
    {
      "cell_type": "code",
      "execution_count": 2,
      "metadata": {
        "id": "AUuFXXWqG4D3"
      },
      "outputs": [
        {
          "name": "stdout",
          "output_type": "stream",
          "text": [
            "0.595595\n"
          ]
        }
      ],
      "source": [
        "text = \"F-DGFDDSFGFD-CFDSHdstgfdfe: tfsd  aaa bdsf 0.595595 fdsgfdbc\";\n",
        "# find index of first occurance of each digit\n",
        "idx = [text.find(i) for i in '0123456789']\n",
        "# the index of the first digit is the minimum of these indexes\n",
        "first_idx = min([i for i in idx if i > 0])\n",
        "# find index of last occurance of each digit\n",
        "idx = [text.rfind(i) for i in '0123456789']\n",
        "# the index of the last digit is the maximum of these indexes\n",
        "last_idx = max([i for i in idx if i > 0])\n",
        "# extract the number from string\n",
        "number = text[first_idx:last_idx+1]\n",
        "# convert to floating point number\n",
        "number_float = float(number)\n",
        "# print out the float\n",
        "print(number_float)"
      ]
    },
    {
      "cell_type": "markdown",
      "metadata": {
        "id": "cnCljYgpD04p"
      },
      "source": [
        "## 1. Conditional Statements\n",
        "\n",
        "(10 points)\n",
        "Translate the following MATLAB code into Python using `if-elif-else`.\n",
        "```\n",
        "n = input('Enter a number: ');\n",
        "\n",
        "switch n\n",
        "    case -1\n",
        "        disp('negative one')\n",
        "    case 0\n",
        "        disp('zero')\n",
        "    case 1\n",
        "        disp('positive one')\n",
        "    otherwise\n",
        "        disp('other value')\n",
        "end\n",
        "```"
      ]
    },
    {
      "cell_type": "code",
      "execution_count": null,
      "metadata": {
        "collapsed": true,
        "id": "9d8vl5zjD04q"
      },
      "outputs": [],
      "source": [
        "n = int(input('Enter a number: '))\n",
        "if n == -1:\n",
        "    print('negative one')\n",
        "elif n == 0:\n",
        "    print('zero')\n",
        "elif n == 1:\n",
        "    print('positive one')\n",
        "else:\n",
        "    print('other value')"
      ]
    },
    {
      "cell_type": "markdown",
      "metadata": {
        "id": "sW9XiUPpD04s"
      },
      "source": [
        "## 2. While Loops\n",
        "\n",
        "(10 points) Write a Python program that calculates the factorial of a given number (you can assume an positive integer) using a while loop. Display the result to the console."
      ]
    },
    {
      "cell_type": "code",
      "execution_count": 5,
      "metadata": {
        "colab": {
          "base_uri": "https://localhost:8080/"
        },
        "collapsed": true,
        "id": "CRCERx8uD04t",
        "outputId": "1870b9d1-fe04-4ae7-e5ec-08ce640ce72e"
      },
      "outputs": [
        {
          "name": "stdout",
          "output_type": "stream",
          "text": [
            "n =  13 , Output:  6227020800\n"
          ]
        }
      ],
      "source": [
        "n = int(input('Enter a number: '))\n",
        "# initialize the result to be 1\n",
        "res = 1\n",
        "# initialize the counter to be 2\n",
        "i = 2\n",
        "while i <= n:\n",
        "    # update result by multiplying with i if i does not exceed n\n",
        "    res = res * i\n",
        "    # increment counter\n",
        "    i += 1\n",
        "# stop if counter exceeds n and print the result\n",
        "print('n = ',n, ', Output: ', res)\n",
        "\n",
        "# test cases\n",
        "# n = 17, Output: 355687428096000\n",
        "# n = 13, Output: 6227020800"
      ]
    },
    {
      "cell_type": "markdown",
      "metadata": {
        "id": "ZQ5SVMq6D04w"
      },
      "source": [
        "## 3. Functions\n",
        "\n",
        "(10 points) Write a function that determines if a number is prime."
      ]
    },
    {
      "cell_type": "code",
      "execution_count": 7,
      "metadata": {
        "colab": {
          "base_uri": "https://localhost:8080/"
        },
        "id": "6rGP5G3_D04x",
        "outputId": "00df2d17-b697-4146-968f-be4fa7cc3ba3"
      },
      "outputs": [
        {
          "name": "stdout",
          "output_type": "stream",
          "text": [
            "True\n",
            "False\n",
            "True\n"
          ]
        }
      ],
      "source": [
        "import math\n",
        "# function is_prime\n",
        "def is_prime(n):\n",
        "    # not prime if the number is smaller than 2\n",
        "    if n <= 1:\n",
        "        return False\n",
        "    # if number larger than 1, check if it is divisible by any number from 2 to sqrt(n)\n",
        "    else:\n",
        "        # initialize the counter to be 2\n",
        "        i = 2\n",
        "        while i <= math.sqrt(n):\n",
        "            # if n is divisible by counter, not prime\n",
        "            if n%i == 0:\n",
        "                return False\n",
        "            else:\n",
        "                # increment counter\n",
        "                i +=1\n",
        "    # if n is not divisible by any number from 2 to sqrt(n), prime            \n",
        "    return True\n",
        "\n",
        "# test cases\n",
        "print(is_prime(2))      # Output: True\n",
        "print(is_prime(10))     # Output: False\n",
        "print(is_prime(17))     # Output: True"
      ]
    },
    {
      "cell_type": "markdown",
      "metadata": {
        "id": "Z6qg-fpQD04u"
      },
      "source": [
        "## 4. List Comprehension\n",
        "\n",
        "(10 points) Write a Python function called `prime_factors` that takes a relatively small integer as input and returns a list of its distinct prime factors. The function should use list comprehension to generate the list of distinct prime factors. You may use the function is_prime() defined in Q3.\n"
      ]
    },
    {
      "cell_type": "code",
      "execution_count": 8,
      "metadata": {
        "colab": {
          "base_uri": "https://localhost:8080/"
        },
        "collapsed": true,
        "id": "2hSCjYlOD04v",
        "outputId": "1024d2e2-7d24-4e65-9529-e5a82d2a3211"
      },
      "outputs": [
        {
          "name": "stdout",
          "output_type": "stream",
          "text": [
            "[2, 3, 5]\n",
            "[2, 7]\n",
            "[2, 3, 11]\n",
            "[2, 29]\n"
          ]
        }
      ],
      "source": [
        "def prime_factors(n):\n",
        "    # for i from 2 to n/2, if i is prime and n is divisible by i, then add i to the output list\n",
        "    output = [i for i in range(2, math.ceil(n/2)) if (is_prime(i)) & (n%i==0)]\n",
        "    return output\n",
        "\n",
        "# test cases\n",
        "print(prime_factors(30))  # Output: [2, 3, 5]\n",
        "print(prime_factors(56))  # Output: [2, 7]\n",
        "print(prime_factors(198))  # Output: [2, 3, 11]\n",
        "print(prime_factors(464))  # Output: [2, 29]"
      ]
    },
    {
      "cell_type": "markdown",
      "metadata": {
        "id": "dw4kZZCiD040"
      },
      "source": [
        "## 5. Recursive Functions\n",
        "(25 points) Write a function that uses recursion to generate the $n$th row of the Pascal's triangle.\n",
        "```\n",
        "              1\n",
        "           1     1\n",
        "        1     2     1\n",
        "      1    3     3     1\n",
        "   1    4     6     4    1\n",
        "1     5    10    10    5    1\n",
        "...\n",
        "...\n",
        "...\n",
        "```"
      ]
    },
    {
      "cell_type": "code",
      "execution_count": 9,
      "metadata": {
        "colab": {
          "base_uri": "https://localhost:8080/"
        },
        "id": "V8QFB_gKD040",
        "outputId": "4946dc49-2061-4057-e65d-9f48af44dac9"
      },
      "outputs": [
        {
          "name": "stdout",
          "output_type": "stream",
          "text": [
            "[1, 5, 10, 10, 5, 1]\n"
          ]
        }
      ],
      "source": [
        "def pascal(n):\n",
        "    # define base cases\n",
        "    if n == 1:\n",
        "        return [1]\n",
        "    elif n == 2:\n",
        "        return [1,1]\n",
        "    else:\n",
        "        # get n-1th row\n",
        "        prev = pascal(n-1)\n",
        "        # initialize the result list\n",
        "        res = [1]\n",
        "        # add sum of consecutive numbers in n-1th row to the result \n",
        "        for i in range(len(prev)-1):\n",
        "            res.append(prev[i]+prev[i+1])\n",
        "        # add last number 1\n",
        "        res.append(1)\n",
        "        # return result list\n",
        "        return res\n",
        "            \n",
        "\n",
        "# test case\n",
        "print(pascal(6))  # output [1, 5, 10, 10, 5, 1]"
      ]
    },
    {
      "cell_type": "markdown",
      "metadata": {
        "id": "eZytgm0qD041"
      },
      "source": [
        "Rewrite the above function using only `while` or `for` loops instead of recursion."
      ]
    },
    {
      "cell_type": "code",
      "execution_count": 10,
      "metadata": {
        "colab": {
          "base_uri": "https://localhost:8080/"
        },
        "collapsed": true,
        "id": "UZ8f-akaD041",
        "outputId": "68ec5672-a40f-493f-e725-68b7471e76bc"
      },
      "outputs": [
        {
          "name": "stdout",
          "output_type": "stream",
          "text": [
            "[1, 5, 10, 10, 5, 1]\n"
          ]
        }
      ],
      "source": [
        "# function using for loops\n",
        "def pascal_by_loops(n):\n",
        "    # inintialize the 2nd row\n",
        "    prev = [1,1]\n",
        "    # for each row, calculate current row and update previous row\n",
        "    for row in range(n-2):\n",
        "        # initialize current row\n",
        "        res = [1]\n",
        "        # add sum of consecutive numbers in previous row to the result \n",
        "        for i in range(len(prev)-1):\n",
        "            res.append(prev[i]+prev[i+1])\n",
        "        # add last number 1\n",
        "        res.append(1)\n",
        "        # update previous row\n",
        "        prev = res\n",
        "    # return the result list\n",
        "    return res\n",
        "\n",
        "# test case\n",
        "print(pascal_by_loops(6)) # output [1, 5, 10, 10, 5, 1]"
      ]
    },
    {
      "cell_type": "markdown",
      "metadata": {
        "id": "HvHD6QHzVo9I"
      },
      "source": [
        "\n",
        "\n",
        "---\n",
        "\n",
        "\n",
        "（5 points) good coding practice and properly submitting your work to GitHub."
      ]
    }
  ],
  "metadata": {
    "anaconda-cloud": {},
    "colab": {
      "provenance": []
    },
    "kernelspec": {
      "display_name": "Python 3",
      "language": "python",
      "name": "python3"
    },
    "language_info": {
      "codemirror_mode": {
        "name": "ipython",
        "version": 3
      },
      "file_extension": ".py",
      "mimetype": "text/x-python",
      "name": "python",
      "nbconvert_exporter": "python",
      "pygments_lexer": "ipython3",
      "version": "3.8.3"
    }
  },
  "nbformat": 4,
  "nbformat_minor": 0
}
